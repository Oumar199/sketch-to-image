{
 "cells": [
  {
   "cell_type": "code",
   "execution_count": 17,
   "metadata": {},
   "outputs": [
    {
     "name": "stdout",
     "output_type": "stream",
     "text": [
      "Requirement already satisfied: pandas in /opt/anaconda3/lib/python3.9/site-packages (1.4.4)\n",
      "Requirement already satisfied: python-dateutil>=2.8.1 in /opt/anaconda3/lib/python3.9/site-packages (from pandas) (2.8.2)\n",
      "Requirement already satisfied: pytz>=2020.1 in /opt/anaconda3/lib/python3.9/site-packages (from pandas) (2022.1)\n",
      "Requirement already satisfied: numpy>=1.18.5 in /opt/anaconda3/lib/python3.9/site-packages (from pandas) (1.21.5)\n",
      "Requirement already satisfied: six>=1.5 in /opt/anaconda3/lib/python3.9/site-packages (from python-dateutil>=2.8.1->pandas) (1.16.0)\n"
     ]
    }
   ],
   "source": [
    "#! pip wheel\n",
    "! pip install pandas\n",
    "#! pip install matplotlib"
   ]
  },
  {
   "cell_type": "code",
   "execution_count": 21,
   "metadata": {},
   "outputs": [],
   "source": [
    "import os\n",
    "import pandas as pd"
   ]
  },
  {
   "cell_type": "code",
   "execution_count": 22,
   "metadata": {},
   "outputs": [],
   "source": [
    "# définir le chemin vers le dossier d'images\n",
    "\n",
    "image_folder = '/Users/macbookpro/Downloads/all-in-one/sketch-rendered/width-5'"
   ]
  },
  {
   "cell_type": "code",
   "execution_count": 23,
   "metadata": {},
   "outputs": [],
   "source": [
    "# initialiser un tableau pour stocker les informations de chaque image\n",
    "\n",
    "data = []"
   ]
  },
  {
   "cell_type": "code",
   "execution_count": 24,
   "metadata": {},
   "outputs": [],
   "source": [
    "# parcourir tous les fichiers dans le dossier d'images\n",
    "\n",
    "for filename in os.listdir(image_folder):\n",
    "    # ignorer les fichiers qui ne sont pas des images\n",
    "    if not (filename.endswith('.jpg') or filename.endswith('.png')):\n",
    "        continue\n",
    "    # extraire le nom de l'image sans l'extension\n",
    "    image_name = os.path.splitext(filename)[0]\n",
    "    # ajouter les informations de l'image au tableau\n",
    "    data.append({'image_name': image_name, 'image_path': image_folder + '/' + filename})"
   ]
  },
  {
   "cell_type": "code",
   "execution_count": 25,
   "metadata": {},
   "outputs": [],
   "source": [
    "# créer un DataFrame à partir des données\n",
    "\n",
    "data = pd.DataFrame(data)"
   ]
  },
  {
   "cell_type": "code",
   "execution_count": 26,
   "metadata": {},
   "outputs": [],
   "source": [
    "# enregistrer le DataFrame en tant que fichier CSV\n",
    "\n",
    "data.to_csv('image_data.csv', index=False)"
   ]
  },
  {
   "cell_type": "code",
   "execution_count": 27,
   "metadata": {},
   "outputs": [
    {
     "data": {
      "text/html": [
       "<div>\n",
       "<style scoped>\n",
       "    .dataframe tbody tr th:only-of-type {\n",
       "        vertical-align: middle;\n",
       "    }\n",
       "\n",
       "    .dataframe tbody tr th {\n",
       "        vertical-align: top;\n",
       "    }\n",
       "\n",
       "    .dataframe thead th {\n",
       "        text-align: right;\n",
       "    }\n",
       "</style>\n",
       "<table border=\"1\" class=\"dataframe\">\n",
       "  <thead>\n",
       "    <tr style=\"text-align: right;\">\n",
       "      <th></th>\n",
       "      <th>image_name</th>\n",
       "      <th>image_path</th>\n",
       "    </tr>\n",
       "  </thead>\n",
       "  <tbody>\n",
       "    <tr>\n",
       "      <th>0</th>\n",
       "      <td>00000001_01</td>\n",
       "      <td>/Users/macbookpro/Downloads/all-in-one/sketch-...</td>\n",
       "    </tr>\n",
       "    <tr>\n",
       "      <th>1</th>\n",
       "      <td>00000001_02</td>\n",
       "      <td>/Users/macbookpro/Downloads/all-in-one/sketch-...</td>\n",
       "    </tr>\n",
       "    <tr>\n",
       "      <th>2</th>\n",
       "      <td>00000001_03</td>\n",
       "      <td>/Users/macbookpro/Downloads/all-in-one/sketch-...</td>\n",
       "    </tr>\n",
       "    <tr>\n",
       "      <th>3</th>\n",
       "      <td>00000001_04</td>\n",
       "      <td>/Users/macbookpro/Downloads/all-in-one/sketch-...</td>\n",
       "    </tr>\n",
       "    <tr>\n",
       "      <th>4</th>\n",
       "      <td>00000001_05</td>\n",
       "      <td>/Users/macbookpro/Downloads/all-in-one/sketch-...</td>\n",
       "    </tr>\n",
       "    <tr>\n",
       "      <th>...</th>\n",
       "      <td>...</td>\n",
       "      <td>...</td>\n",
       "    </tr>\n",
       "    <tr>\n",
       "      <th>4995</th>\n",
       "      <td>00001000_01</td>\n",
       "      <td>/Users/macbookpro/Downloads/all-in-one/sketch-...</td>\n",
       "    </tr>\n",
       "    <tr>\n",
       "      <th>4996</th>\n",
       "      <td>00001000_02</td>\n",
       "      <td>/Users/macbookpro/Downloads/all-in-one/sketch-...</td>\n",
       "    </tr>\n",
       "    <tr>\n",
       "      <th>4997</th>\n",
       "      <td>00001000_03</td>\n",
       "      <td>/Users/macbookpro/Downloads/all-in-one/sketch-...</td>\n",
       "    </tr>\n",
       "    <tr>\n",
       "      <th>4998</th>\n",
       "      <td>00001000_04</td>\n",
       "      <td>/Users/macbookpro/Downloads/all-in-one/sketch-...</td>\n",
       "    </tr>\n",
       "    <tr>\n",
       "      <th>4999</th>\n",
       "      <td>00001000_05</td>\n",
       "      <td>/Users/macbookpro/Downloads/all-in-one/sketch-...</td>\n",
       "    </tr>\n",
       "  </tbody>\n",
       "</table>\n",
       "<p>5000 rows × 2 columns</p>\n",
       "</div>"
      ],
      "text/plain": [
       "       image_name                                         image_path\n",
       "0     00000001_01  /Users/macbookpro/Downloads/all-in-one/sketch-...\n",
       "1     00000001_02  /Users/macbookpro/Downloads/all-in-one/sketch-...\n",
       "2     00000001_03  /Users/macbookpro/Downloads/all-in-one/sketch-...\n",
       "3     00000001_04  /Users/macbookpro/Downloads/all-in-one/sketch-...\n",
       "4     00000001_05  /Users/macbookpro/Downloads/all-in-one/sketch-...\n",
       "...           ...                                                ...\n",
       "4995  00001000_01  /Users/macbookpro/Downloads/all-in-one/sketch-...\n",
       "4996  00001000_02  /Users/macbookpro/Downloads/all-in-one/sketch-...\n",
       "4997  00001000_03  /Users/macbookpro/Downloads/all-in-one/sketch-...\n",
       "4998  00001000_04  /Users/macbookpro/Downloads/all-in-one/sketch-...\n",
       "4999  00001000_05  /Users/macbookpro/Downloads/all-in-one/sketch-...\n",
       "\n",
       "[5000 rows x 2 columns]"
      ]
     },
     "execution_count": 27,
     "metadata": {},
     "output_type": "execute_result"
    }
   ],
   "source": [
    "data"
   ]
  },
  {
   "cell_type": "code",
   "execution_count": null,
   "metadata": {},
   "outputs": [],
   "source": []
  },
  {
   "cell_type": "code",
   "execution_count": null,
   "metadata": {},
   "outputs": [],
   "source": []
  },
  {
   "cell_type": "code",
   "execution_count": 28,
   "metadata": {},
   "outputs": [
    {
     "name": "stdout",
     "output_type": "stream",
     "text": [
      "Collecting torch\n",
      "  Downloading torch-1.13.1-cp39-none-macosx_10_9_x86_64.whl (135.3 MB)\n",
      "\u001b[2K     \u001b[90m━━━━━━━━━━━━━━━━━━━━━━━━━━━━━━━━━━━━━━━\u001b[0m \u001b[32m135.3/135.3 MB\u001b[0m \u001b[31m1.7 MB/s\u001b[0m eta \u001b[36m0:00:00\u001b[0m00:01\u001b[0m00:02\u001b[0m\n",
      "\u001b[?25hRequirement already satisfied: typing-extensions in /opt/anaconda3/lib/python3.9/site-packages (from torch) (4.3.0)\n",
      "Installing collected packages: torch\n",
      "Successfully installed torch-1.13.1\n"
     ]
    }
   ],
   "source": [
    "! pip install torch"
   ]
  },
  {
   "cell_type": "code",
   "execution_count": 29,
   "metadata": {},
   "outputs": [],
   "source": [
    "import os\n",
    "import torch\n",
    "from torch.utils.data import Dataset\n",
    "from PIL import Image"
   ]
  },
  {
   "cell_type": "code",
   "execution_count": null,
   "metadata": {},
   "outputs": [],
   "source": [
    "class ImageDataset(Dataset):\n",
    "    def __init__(self, root_dir, transform=None):\n",
    "        self.root_dir = root_dir\n",
    "        self.transform = transform\n",
    "        self.images = os.listdir(root_dir)\n",
    "\n",
    "    def __len__(self):\n",
    "        return len(self.images)\n",
    "\n",
    "    def __getitem__(self, idx):\n",
    "        img_name = self.images[idx]\n",
    "        img_path = os.path.join(self.root_dir, img_name)\n",
    "        image = Image.open(img_path)\n",
    "\n",
    "        if self.transform:\n",
    "            image = self.transform(image)\n",
    "\n",
    "        return image"
   ]
  },
  {
   "cell_type": "code",
   "execution_count": null,
   "metadata": {},
   "outputs": [],
   "source": [
    "# Utilisation de notre custom dataset\n",
    "transform = transforms.Compose([transforms.ToTensor()])\n",
    "dataset = ImageDataset(\"path/to/images\", transform=transform)\n",
    "dataloader = DataLoader(dataset, batch_size=4, shuffle=True)\n",
    "\n",
    "for images in dataloader:\n",
    "    # Utilisez les images pour entraîner un modèle, etc.\n",
    "    pass\n"
   ]
  },
  {
   "attachments": {},
   "cell_type": "markdown",
   "metadata": {},
   "source": [
    "Dans ce code, nous avons défini une classe ImageDataset qui hérite de la classe Dataset de PyTorch. La classe ImageDataset prend en entrée le chemin du répertoire contenant les images, ainsi qu'une transformation facultative (utilisée pour convertir les images en tenseurs PyTorch). La classe définit les méthodes __len__ et __getitem__ qui sont utilisées pour itérer sur les images dans le dataset. Enfin, on utilise un objet DataLoader pour parcourir les images avec un batch_size donné et un flag pour shuffle ou non les données."
   ]
  },
  {
   "attachments": {},
   "cell_type": "markdown",
   "metadata": {},
   "source": [
    "root_dir est une variable d'instance de la classe ImageDataset qui contient le chemin du répertoire racine contenant les images. Il est utilisé pour accéder aux images lors de l'itération sur le dataset. Le chemin est passé en paramètre lors de l'initialisation de la classe ImageDataset, de sorte qu'on pourra spécifier le chemin vers le répertoire d'images qu'on souhaite utiliser pour notre dataset.\n",
    "\n",
    "Dans le constructeur de la classe, root_dir est utilisé pour initialiser une liste self.images qui contient tous les fichiers image du répertoire. Ensuite, dans la méthode __getitem__, root_dir est utilisé pour créer le chemin complet vers chaque image en utilisant os.path.join(self.root_dir, img_name) pour accéder à chaque image."
   ]
  },
  {
   "attachments": {},
   "cell_type": "markdown",
   "metadata": {},
   "source": [
    "img_path est une variable locale qui contient le chemin complet vers un fichier image donné. Il est créé à l'intérieur de la méthode __getitem__ en utilisant la méthode os.path.join(self.root_dir, img_name).\n",
    "\n",
    "self.root_dir est le chemin vers le répertoire racine contenant les images, qui est passé en paramètre lors de l'initialisation de la classe ImageDataset.\n",
    "img_name est le nom d'un fichier image qui est récupéré dans la liste d'images self.images à l'indice idx qui est passé en paramètre de la méthode.\n",
    "\n",
    "os.path.join() est une fonction qui prend en entrée un chemin de répertoire et un nom de fichier et retourne le chemin complet vers le fichier en combinant le chemin de répertoire et le nom de fichier. Ainsi img_path contient le chemin complet vers l'image spécifique qui est actuellement itérée. Cette variable est utilisée pour ouvrir l'image avec la librairie PIL Image.open(img_path)"
   ]
  },
  {
   "cell_type": "code",
   "execution_count": null,
   "metadata": {},
   "outputs": [],
   "source": []
  }
 ],
 "metadata": {
  "kernelspec": {
   "display_name": "base",
   "language": "python",
   "name": "python3"
  },
  "language_info": {
   "codemirror_mode": {
    "name": "ipython",
    "version": 3
   },
   "file_extension": ".py",
   "mimetype": "text/x-python",
   "name": "python",
   "nbconvert_exporter": "python",
   "pygments_lexer": "ipython3",
   "version": "3.9.13"
  },
  "orig_nbformat": 4,
  "vscode": {
   "interpreter": {
    "hash": "40d3a090f54c6569ab1632332b64b2c03c39dcf918b08424e98f38b5ae0af88f"
   }
  }
 },
 "nbformat": 4,
 "nbformat_minor": 2
}
