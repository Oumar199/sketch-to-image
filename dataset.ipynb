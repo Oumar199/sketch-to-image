{
 "cells": [
  {
   "cell_type": "code",
   "execution_count": 1,
   "metadata": {},
   "outputs": [
    {
     "name": "stdout",
     "output_type": "stream",
     "text": [
      "\u001b[31mERROR: You must give at least one requirement to wheel (see \"pip help wheel\")\u001b[0m\u001b[31m\n",
      "\u001b[0mRequirement already satisfied: pandas in /opt/anaconda3/lib/python3.9/site-packages (1.4.4)\n",
      "Requirement already satisfied: python-dateutil>=2.8.1 in /opt/anaconda3/lib/python3.9/site-packages (from pandas) (2.8.2)\n",
      "Requirement already satisfied: pytz>=2020.1 in /opt/anaconda3/lib/python3.9/site-packages (from pandas) (2022.1)\n",
      "Requirement already satisfied: numpy>=1.18.5 in /opt/anaconda3/lib/python3.9/site-packages (from pandas) (1.21.5)\n",
      "Requirement already satisfied: six>=1.5 in /opt/anaconda3/lib/python3.9/site-packages (from python-dateutil>=2.8.1->pandas) (1.16.0)\n"
     ]
    }
   ],
   "source": [
    "! pip wheel\n",
    "! pip install pandas\n",
    "#! pip install matplotlib"
   ]
  },
  {
   "cell_type": "code",
   "execution_count": 2,
   "metadata": {},
   "outputs": [],
   "source": [
    "#import os\n",
    "import pandas as pd"
   ]
  },
  {
   "cell_type": "code",
   "execution_count": 3,
   "metadata": {},
   "outputs": [],
   "source": [
    "# définir le chemin vers le dossier d'images\n",
    "\n",
    "image_folder = '/Users/macbookpro/Downloads/all-in-one/sketch-rendered/width-3'"
   ]
  },
  {
   "cell_type": "code",
   "execution_count": 4,
   "metadata": {},
   "outputs": [],
   "source": [
    "# initialiser un tableau pour stocker les informations de chaque image\n",
    "\n",
    "data = []"
   ]
  },
  {
   "cell_type": "code",
   "execution_count": 5,
   "metadata": {},
   "outputs": [],
   "source": [
    "# parcourir tous les fichiers dans le dossier d'images\n",
    "\n",
    "for filename in os.listdir(image_folder):\n",
    "    # ignorer les fichiers qui ne sont pas des images\n",
    "    if not (filename.endswith('.jpg') or filename.endswith('.png')):\n",
    "        continue\n",
    "    # extraire le nom de l'image sans l'extension\n",
    "    image_name = os.path.splitext(filename)[0]\n",
    "    # ajouter les informations de l'image au tableau\n",
    "    data.append({'image_name': image_name, 'image_path': image_folder + '/' + filename})"
   ]
  },
  {
   "cell_type": "code",
   "execution_count": 6,
   "metadata": {},
   "outputs": [],
   "source": [
    "# créer un DataFrame à partir des données\n",
    "\n",
    "data = pd.DataFrame(data)"
   ]
  },
  {
   "cell_type": "code",
   "execution_count": 7,
   "metadata": {},
   "outputs": [],
   "source": [
    "# enregistrer le DataFrame en tant que fichier CSV\n",
    "\n",
    "data.to_csv('image_data.csv', index=False)"
   ]
  },
  {
   "cell_type": "code",
   "execution_count": 8,
   "metadata": {},
   "outputs": [
    {
     "data": {
      "text/html": [
       "<div>\n",
       "<style scoped>\n",
       "    .dataframe tbody tr th:only-of-type {\n",
       "        vertical-align: middle;\n",
       "    }\n",
       "\n",
       "    .dataframe tbody tr th {\n",
       "        vertical-align: top;\n",
       "    }\n",
       "\n",
       "    .dataframe thead th {\n",
       "        text-align: right;\n",
       "    }\n",
       "</style>\n",
       "<table border=\"1\" class=\"dataframe\">\n",
       "  <thead>\n",
       "    <tr style=\"text-align: right;\">\n",
       "      <th></th>\n",
       "      <th>image_name</th>\n",
       "      <th>image_path</th>\n",
       "    </tr>\n",
       "  </thead>\n",
       "  <tbody>\n",
       "    <tr>\n",
       "      <th>0</th>\n",
       "      <td>00000001_01</td>\n",
       "      <td>/Users/macbookpro/Downloads/all-in-one/sketch-...</td>\n",
       "    </tr>\n",
       "    <tr>\n",
       "      <th>1</th>\n",
       "      <td>00000001_02</td>\n",
       "      <td>/Users/macbookpro/Downloads/all-in-one/sketch-...</td>\n",
       "    </tr>\n",
       "    <tr>\n",
       "      <th>2</th>\n",
       "      <td>00000001_03</td>\n",
       "      <td>/Users/macbookpro/Downloads/all-in-one/sketch-...</td>\n",
       "    </tr>\n",
       "    <tr>\n",
       "      <th>3</th>\n",
       "      <td>00000001_04</td>\n",
       "      <td>/Users/macbookpro/Downloads/all-in-one/sketch-...</td>\n",
       "    </tr>\n",
       "    <tr>\n",
       "      <th>4</th>\n",
       "      <td>00000001_05</td>\n",
       "      <td>/Users/macbookpro/Downloads/all-in-one/sketch-...</td>\n",
       "    </tr>\n",
       "    <tr>\n",
       "      <th>...</th>\n",
       "      <td>...</td>\n",
       "      <td>...</td>\n",
       "    </tr>\n",
       "    <tr>\n",
       "      <th>4995</th>\n",
       "      <td>00001000_01</td>\n",
       "      <td>/Users/macbookpro/Downloads/all-in-one/sketch-...</td>\n",
       "    </tr>\n",
       "    <tr>\n",
       "      <th>4996</th>\n",
       "      <td>00001000_02</td>\n",
       "      <td>/Users/macbookpro/Downloads/all-in-one/sketch-...</td>\n",
       "    </tr>\n",
       "    <tr>\n",
       "      <th>4997</th>\n",
       "      <td>00001000_03</td>\n",
       "      <td>/Users/macbookpro/Downloads/all-in-one/sketch-...</td>\n",
       "    </tr>\n",
       "    <tr>\n",
       "      <th>4998</th>\n",
       "      <td>00001000_04</td>\n",
       "      <td>/Users/macbookpro/Downloads/all-in-one/sketch-...</td>\n",
       "    </tr>\n",
       "    <tr>\n",
       "      <th>4999</th>\n",
       "      <td>00001000_05</td>\n",
       "      <td>/Users/macbookpro/Downloads/all-in-one/sketch-...</td>\n",
       "    </tr>\n",
       "  </tbody>\n",
       "</table>\n",
       "<p>5000 rows × 2 columns</p>\n",
       "</div>"
      ],
      "text/plain": [
       "       image_name                                         image_path\n",
       "0     00000001_01  /Users/macbookpro/Downloads/all-in-one/sketch-...\n",
       "1     00000001_02  /Users/macbookpro/Downloads/all-in-one/sketch-...\n",
       "2     00000001_03  /Users/macbookpro/Downloads/all-in-one/sketch-...\n",
       "3     00000001_04  /Users/macbookpro/Downloads/all-in-one/sketch-...\n",
       "4     00000001_05  /Users/macbookpro/Downloads/all-in-one/sketch-...\n",
       "...           ...                                                ...\n",
       "4995  00001000_01  /Users/macbookpro/Downloads/all-in-one/sketch-...\n",
       "4996  00001000_02  /Users/macbookpro/Downloads/all-in-one/sketch-...\n",
       "4997  00001000_03  /Users/macbookpro/Downloads/all-in-one/sketch-...\n",
       "4998  00001000_04  /Users/macbookpro/Downloads/all-in-one/sketch-...\n",
       "4999  00001000_05  /Users/macbookpro/Downloads/all-in-one/sketch-...\n",
       "\n",
       "[5000 rows x 2 columns]"
      ]
     },
     "execution_count": 8,
     "metadata": {},
     "output_type": "execute_result"
    }
   ],
   "source": [
    "data"
   ]
  }
 ],
 "metadata": {
  "kernelspec": {
   "display_name": "base",
   "language": "python",
   "name": "python3"
  },
  "language_info": {
   "codemirror_mode": {
    "name": "ipython",
    "version": 3
   },
   "file_extension": ".py",
   "mimetype": "text/x-python",
   "name": "python",
   "nbconvert_exporter": "python",
   "pygments_lexer": "ipython3",
   "version": "3.9.13"
  },
  "orig_nbformat": 4,
  "vscode": {
   "interpreter": {
    "hash": "40d3a090f54c6569ab1632332b64b2c03c39dcf918b08424e98f38b5ae0af88f"
   }
  }
 },
 "nbformat": 4,
 "nbformat_minor": 2
}
