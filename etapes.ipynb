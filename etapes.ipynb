{
 "cells": [
  {
   "attachments": {},
   "cell_type": "markdown",
   "metadata": {},
   "source": [
    "Les étapes du projet \n",
    "-----------------------------------"
   ]
  },
  {
   "attachments": {},
   "cell_type": "markdown",
   "metadata": {},
   "source": [
    "Nous devons savoir comment procéder pour arriver à produire des images réelles à partir de simples dessins. Pour cela nous avons plusieurs outils à notre disposition: \n",
    "- `pytorch`: Pour charger les données, créer un modèle, entraîner le modèle rapidement et avec une grande stabilité, scalabilité ...\n",
    "- `torchvision`: Pour effectuer des transformations sur les images, peut servir à charger les données, ...\n",
    "- `PIL`: Pour charger les données avec l'aide de `pytorch`, effectuer des transformations préalables, visualiser les images, ...\n",
    "- `piqa`: Pour calculer la perte ou la similarité entres des images, ...\n",
    "- `matplotlib`: Pour visualiser les données, ...\n",
    "- `os`: Pour récupérer les chemins des fichiers, création et/ou suppression de dossiers, vérification de l'existence d'un répertoire ou d'un fichier, ...\n",
    "- Plein d'autres outils que nous allons aborder au fur et à mesure. Ces outils seront marqués entre `` dans les commentaires et discussions."
   ]
  },
  {
   "attachments": {},
   "cell_type": "markdown",
   "metadata": {},
   "source": [
    "Nous allons poursuivre les principales étapes suivantes:\n",
    "1. Vérification des caractéristiques des images après leur chargement: Nous devons pour cela d'abord pouvoir charger les données.\n",
    "2. Visualisation des images dans notre tableau de bord: Nous allons utiliser pour cela `tensorboard` qui nous servira également à d'autres choses telles que la visualisation de l'architecture du modèle, la visualisation des métriques, la recherche par quadrillage.\n",
    "3. Création de l'architecture du modèle: Cette étape nécessitera de se baser sur des architectures déjà existantes comme l'`UNet` qui est très performant en terme de segmentation d'images. Il est cruciable de commencer avec des architectures basiques puis d'aller plus en profondeur si nécessaire (si les résultats ne sont pas satisfaisantes).\n",
    "4. Préparation de l'entraînement: Il s'agît des fonctions qui seront utiles pour entraîner le modèle, l'évaluer et la sauvegarder si possible et la visualisation des résultats.\n",
    "5. Recherche par quadrillage des meilleurs hyperparamètres: Nous allons rechercher par exemple le meilleur taux d'apprentissage, le meilleur taux de régularisation, etc. (Nous verrons par la suite d'autres hyperparamètres).\n",
    "6. Compilation (initialisation) des meilleurs hyperparamètres et entraînement du modèle: Il nécessitera de visualiser les résultats obtenus après chaque itération. \n",
    "7. Sauvegarde du modèle: Nous pouvons sauvegarder à chaque itération si nécessaire et une fois à la fin pour éviter certains soucis.\n",
    "8. Evaluer la performance du modèle: Si la performance n'est pas suffisante on continue l'entraînement ou on modifie l'architecture puis on reprend les étapes 4, 5, 6 et 7.\n",
    "9. Tester le modèle: Nous allons utiliser le modèle, à l'aide du package (nous allons ajouter quelques paramètres dans le dossier à la fin), sur des images tracer à la main.   "
   ]
  }
 ],
 "metadata": {
  "kernelspec": {
   "display_name": "pytorch1-HleOW5am-py3.10",
   "language": "python",
   "name": "python3"
  },
  "language_info": {
   "name": "python",
   "version": "3.10.4 (tags/v3.10.4:9d38120, Mar 23 2022, 23:13:41) [MSC v.1929 64 bit (AMD64)]"
  },
  "orig_nbformat": 4,
  "vscode": {
   "interpreter": {
    "hash": "0117f848bdc47a201356c5433e225e297df598bdcbcc117f6e2c07c08108cc9c"
   }
  }
 },
 "nbformat": 4,
 "nbformat_minor": 2
}
